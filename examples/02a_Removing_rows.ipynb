{
 "cells": [
  {
   "cell_type": "markdown",
   "metadata": {},
   "source": [
    "# HOWTO: Removing rows from the alignment"
   ]
  },
  {
   "cell_type": "code",
   "execution_count": 1,
   "metadata": {},
   "outputs": [],
   "source": [
    "# Generate random FASTA alignment of 3 samples, 9 characters long to use as an example\n",
    "import random\n",
    "\n",
    "def generate_random_alignment(num_samples, seq_len, bases='ATCG'):\n",
    "    sequences = ['' for i in range(num_samples)]\n",
    "    for i in range(seq_len):\n",
    "        char1 = random.choice(bases)\n",
    "        if random.random() > 0.5:  # >0.5 means variable\n",
    "            # Pick another character\n",
    "            char2 = random.choice(bases)\n",
    "            freq1 = random.randint(1, num_samples-1)\n",
    "            freq2 = num_samples - freq1\n",
    "        else:\n",
    "            char2 = ''\n",
    "            freq1, freq2 = num_samples, 0\n",
    "        for j1 in range(freq1):\n",
    "            sequences[j1] += char1\n",
    "        for j2 in range(freq1, freq1+freq2):\n",
    "            sequences[j2] += char2\n",
    "    return sequences\n",
    "\n",
    "def generate_random_fasta(path, num_samples, seq_len, bases='ATCG'):\n",
    "    sequences = generate_random_alignment(num_samples, seq_len, bases=bases)\n",
    "    with open(path, 'w') as f:\n",
    "        for i, seq in enumerate(sequences):\n",
    "            if i == 1:\n",
    "                print('>seq{i}\\n{s}'.format(i=i+1, s=seq), file=f)\n",
    "            else:\n",
    "                print('>seq{i} description{i}\\n{s}'.format(i=i+1, s=seq), file=f)\n",
    "\n",
    "path = 'test.aln'\n",
    "generate_random_fasta(path, 3, 9)"
   ]
  },
  {
   "cell_type": "code",
   "execution_count": 2,
   "metadata": {},
   "outputs": [
    {
     "name": "stdout",
     "output_type": "stream",
     "text": [
      ">seq1 description1\n",
      "TTATGAGTT\n",
      ">seq2\n",
      "TTATGAGTT\n",
      ">seq3 description3\n",
      "TTGTGCATT\n"
     ]
    }
   ],
   "source": [
    "# Prints the contents of test.aln\n",
    "with open('test.aln', 'r') as f:\n",
    "    for line in f:\n",
    "        print(line.rstrip())"
   ]
  },
  {
   "cell_type": "markdown",
   "metadata": {},
   "source": [
    "## Editing alignment rows\n",
    "\n",
    "The `Alignment` object provides two methods to remove row entries from the multiple sequence alignment: `.remove` and `.retain`.\n",
    "\n"
   ]
  },
  {
   "cell_type": "markdown",
   "metadata": {},
   "source": [
    "### Removing rows using `.remove`\n",
    "\n",
    "The `.remove` method takes in an integer position index as input and removes the corresponding row at that position. The method also accepts multiple indices at the same time via a list.\n",
    "\n",
    "By default, the `.remove` method removes the row inplace, changing the existing data. However, if `copy=True`, the method instead will generate a copy of the data without the specified row/s, keeping the original data intact."
   ]
  },
  {
   "cell_type": "markdown",
   "metadata": {},
   "source": [
    "### Removing rows inplace (default)\n",
    "\n",
    "In the following example, the row with position index 0, which is the first row, will be removed from the sequence alignment. Note how this affects both the number of rows in the sequence alignment and the number of entries in the row metadata.\n",
    "\n",
    "By default, `.remove` will modify the underlying data and changes made cannot be undone."
   ]
  },
  {
   "cell_type": "code",
   "execution_count": 3,
   "metadata": {},
   "outputs": [],
   "source": [
    "# Import Alignment module and import the data from a file into an Alignment object\n",
    "# See 01_Reading_alignments.ipynb for details about importing data.\n",
    "from alignmentrs import Alignment\n",
    "aln = Alignment.from_fasta(path)"
   ]
  },
  {
   "cell_type": "code",
   "execution_count": 4,
   "metadata": {},
   "outputs": [
    {
     "data": {
      "text/html": [
       "<div>\n",
       "<style scoped>\n",
       "    .dataframe tbody tr th:only-of-type {\n",
       "        vertical-align: middle;\n",
       "    }\n",
       "\n",
       "    .dataframe tbody tr th {\n",
       "        vertical-align: top;\n",
       "    }\n",
       "\n",
       "    .dataframe thead th {\n",
       "        text-align: right;\n",
       "    }\n",
       "</style>\n",
       "<table border=\"1\" class=\"dataframe\">\n",
       "  <thead>\n",
       "    <tr style=\"text-align: right;\">\n",
       "      <th></th>\n",
       "      <th>description</th>\n",
       "      <th>sequence</th>\n",
       "    </tr>\n",
       "  </thead>\n",
       "  <tbody>\n",
       "    <tr>\n",
       "      <th>seq1</th>\n",
       "      <td>description1</td>\n",
       "      <td>TTATGAGTT</td>\n",
       "    </tr>\n",
       "    <tr>\n",
       "      <th>seq2</th>\n",
       "      <td></td>\n",
       "      <td>TTATGAGTT</td>\n",
       "    </tr>\n",
       "    <tr>\n",
       "      <th>seq3</th>\n",
       "      <td>description3</td>\n",
       "      <td>TTGTGCATT</td>\n",
       "    </tr>\n",
       "  </tbody>\n",
       "</table>\n",
       "</div>"
      ],
      "text/plain": [
       "       description   sequence\n",
       "seq1  description1  TTATGAGTT\n",
       "seq2                TTATGAGTT\n",
       "seq3  description3  TTGTGCATT"
      ]
     },
     "execution_count": 4,
     "metadata": {},
     "output_type": "execute_result"
    }
   ],
   "source": [
    "# Row and row metadata before editing\n",
    "aln.row_and_metadata"
   ]
  },
  {
   "cell_type": "code",
   "execution_count": 5,
   "metadata": {},
   "outputs": [
    {
     "data": {
      "text/plain": [
       "(3, 9)"
      ]
     },
     "execution_count": 5,
     "metadata": {},
     "output_type": "execute_result"
    }
   ],
   "source": [
    "# Number of rows and columns in the alignment prior to editing\n",
    "aln.nrows, aln.ncols"
   ]
  },
  {
   "cell_type": "code",
   "execution_count": 6,
   "metadata": {},
   "outputs": [],
   "source": [
    "# Remove row with position index 0 inplace\n",
    "aln.row.remove(0)"
   ]
  },
  {
   "cell_type": "code",
   "execution_count": 7,
   "metadata": {},
   "outputs": [
    {
     "data": {
      "text/plain": [
       "(2, 9)"
      ]
     },
     "execution_count": 7,
     "metadata": {},
     "output_type": "execute_result"
    }
   ],
   "source": [
    "# Resulting number of rows and columns in the alignment after editing\n",
    "# Note that latter remains the same\n",
    "aln.nrows, aln.ncols"
   ]
  },
  {
   "cell_type": "code",
   "execution_count": 8,
   "metadata": {},
   "outputs": [
    {
     "data": {
      "text/html": [
       "<div>\n",
       "<style scoped>\n",
       "    .dataframe tbody tr th:only-of-type {\n",
       "        vertical-align: middle;\n",
       "    }\n",
       "\n",
       "    .dataframe tbody tr th {\n",
       "        vertical-align: top;\n",
       "    }\n",
       "\n",
       "    .dataframe thead th {\n",
       "        text-align: right;\n",
       "    }\n",
       "</style>\n",
       "<table border=\"1\" class=\"dataframe\">\n",
       "  <thead>\n",
       "    <tr style=\"text-align: right;\">\n",
       "      <th></th>\n",
       "      <th>description</th>\n",
       "      <th>sequence</th>\n",
       "    </tr>\n",
       "  </thead>\n",
       "  <tbody>\n",
       "    <tr>\n",
       "      <th>seq2</th>\n",
       "      <td></td>\n",
       "      <td>TTATGAGTT</td>\n",
       "    </tr>\n",
       "    <tr>\n",
       "      <th>seq3</th>\n",
       "      <td>description3</td>\n",
       "      <td>TTGTGCATT</td>\n",
       "    </tr>\n",
       "  </tbody>\n",
       "</table>\n",
       "</div>"
      ],
      "text/plain": [
       "       description   sequence\n",
       "seq2                TTATGAGTT\n",
       "seq3  description3  TTGTGCATT"
      ]
     },
     "execution_count": 8,
     "metadata": {},
     "output_type": "execute_result"
    }
   ],
   "source": [
    "# Resulting row and row metadata after editing\n",
    "aln.row_and_metadata"
   ]
  },
  {
   "cell_type": "markdown",
   "metadata": {},
   "source": [
    "### Removing rows via a copy\n",
    "\n",
    "The following code also removes the first row of the sequence alignment (row 0). However, instead of editing the underlying data, a new copy (`new_aln`) reflecting the edit will be returned instead. This keeps the original data (`aln`) intact. This way of removing rows is useful when it is necessary to compare the original and edited states of the alignment. \n",
    "\n",
    "However, this method of removing rows is not always recommended, especially for large alignments, because it creates a copy of the data and doubles the memory used for the analysis."
   ]
  },
  {
   "cell_type": "code",
   "execution_count": 9,
   "metadata": {},
   "outputs": [],
   "source": [
    "# Reimport the data from a file into an Alignment object such that\n",
    "# the starting data will the same as the first.\n",
    "# See 01_Reading_alignments.ipynb for details about importing data.\n",
    "aln = Alignment.from_fasta(path)"
   ]
  },
  {
   "cell_type": "code",
   "execution_count": 10,
   "metadata": {},
   "outputs": [
    {
     "data": {
      "text/html": [
       "<div>\n",
       "<style scoped>\n",
       "    .dataframe tbody tr th:only-of-type {\n",
       "        vertical-align: middle;\n",
       "    }\n",
       "\n",
       "    .dataframe tbody tr th {\n",
       "        vertical-align: top;\n",
       "    }\n",
       "\n",
       "    .dataframe thead th {\n",
       "        text-align: right;\n",
       "    }\n",
       "</style>\n",
       "<table border=\"1\" class=\"dataframe\">\n",
       "  <thead>\n",
       "    <tr style=\"text-align: right;\">\n",
       "      <th></th>\n",
       "      <th>description</th>\n",
       "      <th>sequence</th>\n",
       "    </tr>\n",
       "  </thead>\n",
       "  <tbody>\n",
       "    <tr>\n",
       "      <th>seq1</th>\n",
       "      <td>description1</td>\n",
       "      <td>TTATGAGTT</td>\n",
       "    </tr>\n",
       "    <tr>\n",
       "      <th>seq2</th>\n",
       "      <td></td>\n",
       "      <td>TTATGAGTT</td>\n",
       "    </tr>\n",
       "    <tr>\n",
       "      <th>seq3</th>\n",
       "      <td>description3</td>\n",
       "      <td>TTGTGCATT</td>\n",
       "    </tr>\n",
       "  </tbody>\n",
       "</table>\n",
       "</div>"
      ],
      "text/plain": [
       "       description   sequence\n",
       "seq1  description1  TTATGAGTT\n",
       "seq2                TTATGAGTT\n",
       "seq3  description3  TTGTGCATT"
      ]
     },
     "execution_count": 10,
     "metadata": {},
     "output_type": "execute_result"
    }
   ],
   "source": [
    "# Row and row metadata before editing\n",
    "aln.row_and_metadata"
   ]
  },
  {
   "cell_type": "code",
   "execution_count": 11,
   "metadata": {},
   "outputs": [
    {
     "data": {
      "text/plain": [
       "(3, 9)"
      ]
     },
     "execution_count": 11,
     "metadata": {},
     "output_type": "execute_result"
    }
   ],
   "source": [
    "# Number of rows and columns in the alignment prior to editing\n",
    "aln.nrows, aln.ncols"
   ]
  },
  {
   "cell_type": "code",
   "execution_count": 12,
   "metadata": {},
   "outputs": [],
   "source": [
    "# Return a copy of the data, removing row with position index 0\n",
    "# The edited copy is named `new_aln`\n",
    "new_aln = aln.row.remove(0, copy=True)"
   ]
  },
  {
   "cell_type": "code",
   "execution_count": 13,
   "metadata": {},
   "outputs": [
    {
     "data": {
      "text/plain": [
       "(3, 9)"
      ]
     },
     "execution_count": 13,
     "metadata": {},
     "output_type": "execute_result"
    }
   ],
   "source": [
    "# Number of rows and columns in the original alignment after to editing\n",
    "aln.nrows, aln.ncols"
   ]
  },
  {
   "cell_type": "code",
   "execution_count": 14,
   "metadata": {},
   "outputs": [
    {
     "data": {
      "text/plain": [
       "(2, 9)"
      ]
     },
     "execution_count": 14,
     "metadata": {},
     "output_type": "execute_result"
    }
   ],
   "source": [
    "# Number of rows and columns in the NEW alignment\n",
    "new_aln.nrows, new_aln.ncols"
   ]
  },
  {
   "cell_type": "code",
   "execution_count": 15,
   "metadata": {
    "scrolled": true
   },
   "outputs": [
    {
     "data": {
      "text/html": [
       "<div>\n",
       "<style scoped>\n",
       "    .dataframe tbody tr th:only-of-type {\n",
       "        vertical-align: middle;\n",
       "    }\n",
       "\n",
       "    .dataframe tbody tr th {\n",
       "        vertical-align: top;\n",
       "    }\n",
       "\n",
       "    .dataframe thead th {\n",
       "        text-align: right;\n",
       "    }\n",
       "</style>\n",
       "<table border=\"1\" class=\"dataframe\">\n",
       "  <thead>\n",
       "    <tr style=\"text-align: right;\">\n",
       "      <th></th>\n",
       "      <th>description</th>\n",
       "      <th>sequence</th>\n",
       "    </tr>\n",
       "  </thead>\n",
       "  <tbody>\n",
       "    <tr>\n",
       "      <th>seq1</th>\n",
       "      <td>description1</td>\n",
       "      <td>TTATGAGTT</td>\n",
       "    </tr>\n",
       "    <tr>\n",
       "      <th>seq2</th>\n",
       "      <td></td>\n",
       "      <td>TTATGAGTT</td>\n",
       "    </tr>\n",
       "    <tr>\n",
       "      <th>seq3</th>\n",
       "      <td>description3</td>\n",
       "      <td>TTGTGCATT</td>\n",
       "    </tr>\n",
       "  </tbody>\n",
       "</table>\n",
       "</div>"
      ],
      "text/plain": [
       "       description   sequence\n",
       "seq1  description1  TTATGAGTT\n",
       "seq2                TTATGAGTT\n",
       "seq3  description3  TTGTGCATT"
      ]
     },
     "execution_count": 15,
     "metadata": {},
     "output_type": "execute_result"
    }
   ],
   "source": [
    "# Row and row metadata in the original alignment after editing\n",
    "aln.row_and_metadata"
   ]
  },
  {
   "cell_type": "code",
   "execution_count": 16,
   "metadata": {},
   "outputs": [
    {
     "data": {
      "text/html": [
       "<div>\n",
       "<style scoped>\n",
       "    .dataframe tbody tr th:only-of-type {\n",
       "        vertical-align: middle;\n",
       "    }\n",
       "\n",
       "    .dataframe tbody tr th {\n",
       "        vertical-align: top;\n",
       "    }\n",
       "\n",
       "    .dataframe thead th {\n",
       "        text-align: right;\n",
       "    }\n",
       "</style>\n",
       "<table border=\"1\" class=\"dataframe\">\n",
       "  <thead>\n",
       "    <tr style=\"text-align: right;\">\n",
       "      <th></th>\n",
       "      <th>description</th>\n",
       "      <th>sequence</th>\n",
       "    </tr>\n",
       "  </thead>\n",
       "  <tbody>\n",
       "    <tr>\n",
       "      <th>seq2</th>\n",
       "      <td></td>\n",
       "      <td>TTATGAGTT</td>\n",
       "    </tr>\n",
       "    <tr>\n",
       "      <th>seq3</th>\n",
       "      <td>description3</td>\n",
       "      <td>TTGTGCATT</td>\n",
       "    </tr>\n",
       "  </tbody>\n",
       "</table>\n",
       "</div>"
      ],
      "text/plain": [
       "       description   sequence\n",
       "seq2                TTATGAGTT\n",
       "seq3  description3  TTGTGCATT"
      ]
     },
     "execution_count": 16,
     "metadata": {},
     "output_type": "execute_result"
    }
   ],
   "source": [
    "# Row and row metadata in the NEW alignment\n",
    "new_aln.row_and_metadata"
   ]
  },
  {
   "cell_type": "markdown",
   "metadata": {},
   "source": [
    "### Removing rows using `.retain`\n",
    "\n",
    "The `.retain` method takes in an integer position index as input and removes all the other rows except the row at the specified position. To retain more than a single row, this method also accepts multiple indices at the same time via a list.\n",
    "\n",
    "The functionality of `.retain` can be considered the inverse of `.remove`. Whereas `.remove` removes specified rows, `.retain` keeps specified rows and removes all other rows.\n",
    "\n",
    "By default, the `.retain` method removes rows inplace, changing the existing data. However, if `copy=True`, the method instead will generate a copy of the data retaining only the specified row/s, keeping the original data intact."
   ]
  },
  {
   "cell_type": "markdown",
   "metadata": {},
   "source": [
    "### Retaining rows inplace (default)\n",
    "\n",
    "In the following example, the row with position index 0, which is the first row, will be kept while all the other rows in the sequence alignment be deleted. This produces the opposite effect of `.remove`. \n",
    "\n",
    "This means the resulting number of rows and entries in the row metadata after editing will be equal to the number of specified indices.\n",
    "\n",
    "By default, `.retain` will modify the underlying data and the original state before editing cannot be recovered."
   ]
  },
  {
   "cell_type": "code",
   "execution_count": 17,
   "metadata": {},
   "outputs": [],
   "source": [
    "# Reimport the data from a file into an Alignment object such that\n",
    "# the starting data will the same as the first.\n",
    "# See 01_Reading_alignments.ipynb for details about importing data.\n",
    "aln = Alignment.from_fasta(path)"
   ]
  },
  {
   "cell_type": "code",
   "execution_count": 18,
   "metadata": {},
   "outputs": [
    {
     "data": {
      "text/html": [
       "<div>\n",
       "<style scoped>\n",
       "    .dataframe tbody tr th:only-of-type {\n",
       "        vertical-align: middle;\n",
       "    }\n",
       "\n",
       "    .dataframe tbody tr th {\n",
       "        vertical-align: top;\n",
       "    }\n",
       "\n",
       "    .dataframe thead th {\n",
       "        text-align: right;\n",
       "    }\n",
       "</style>\n",
       "<table border=\"1\" class=\"dataframe\">\n",
       "  <thead>\n",
       "    <tr style=\"text-align: right;\">\n",
       "      <th></th>\n",
       "      <th>description</th>\n",
       "      <th>sequence</th>\n",
       "    </tr>\n",
       "  </thead>\n",
       "  <tbody>\n",
       "    <tr>\n",
       "      <th>seq1</th>\n",
       "      <td>description1</td>\n",
       "      <td>TTATGAGTT</td>\n",
       "    </tr>\n",
       "    <tr>\n",
       "      <th>seq2</th>\n",
       "      <td></td>\n",
       "      <td>TTATGAGTT</td>\n",
       "    </tr>\n",
       "    <tr>\n",
       "      <th>seq3</th>\n",
       "      <td>description3</td>\n",
       "      <td>TTGTGCATT</td>\n",
       "    </tr>\n",
       "  </tbody>\n",
       "</table>\n",
       "</div>"
      ],
      "text/plain": [
       "       description   sequence\n",
       "seq1  description1  TTATGAGTT\n",
       "seq2                TTATGAGTT\n",
       "seq3  description3  TTGTGCATT"
      ]
     },
     "execution_count": 18,
     "metadata": {},
     "output_type": "execute_result"
    }
   ],
   "source": [
    "# Row and row metadata before editing\n",
    "aln.row_and_metadata"
   ]
  },
  {
   "cell_type": "code",
   "execution_count": 19,
   "metadata": {},
   "outputs": [
    {
     "data": {
      "text/plain": [
       "(3, 9)"
      ]
     },
     "execution_count": 19,
     "metadata": {},
     "output_type": "execute_result"
    }
   ],
   "source": [
    "# Number of rows and columns in the alignment prior to editing\n",
    "aln.nrows, aln.ncols"
   ]
  },
  {
   "cell_type": "code",
   "execution_count": 20,
   "metadata": {},
   "outputs": [],
   "source": [
    "# Retain row with position index 0 inplace\n",
    "aln.row.retain(0)"
   ]
  },
  {
   "cell_type": "code",
   "execution_count": 21,
   "metadata": {},
   "outputs": [
    {
     "data": {
      "text/plain": [
       "(1, 9)"
      ]
     },
     "execution_count": 21,
     "metadata": {},
     "output_type": "execute_result"
    }
   ],
   "source": [
    "# Resulting number of rows in the alignment after editing\n",
    "# Note that latter remains the same\n",
    "aln.nrows, aln.ncols"
   ]
  },
  {
   "cell_type": "code",
   "execution_count": 22,
   "metadata": {},
   "outputs": [
    {
     "data": {
      "text/html": [
       "<div>\n",
       "<style scoped>\n",
       "    .dataframe tbody tr th:only-of-type {\n",
       "        vertical-align: middle;\n",
       "    }\n",
       "\n",
       "    .dataframe tbody tr th {\n",
       "        vertical-align: top;\n",
       "    }\n",
       "\n",
       "    .dataframe thead th {\n",
       "        text-align: right;\n",
       "    }\n",
       "</style>\n",
       "<table border=\"1\" class=\"dataframe\">\n",
       "  <thead>\n",
       "    <tr style=\"text-align: right;\">\n",
       "      <th></th>\n",
       "      <th>description</th>\n",
       "      <th>sequence</th>\n",
       "    </tr>\n",
       "  </thead>\n",
       "  <tbody>\n",
       "    <tr>\n",
       "      <th>seq1</th>\n",
       "      <td>description1</td>\n",
       "      <td>TTATGAGTT</td>\n",
       "    </tr>\n",
       "  </tbody>\n",
       "</table>\n",
       "</div>"
      ],
      "text/plain": [
       "       description   sequence\n",
       "seq1  description1  TTATGAGTT"
      ]
     },
     "execution_count": 22,
     "metadata": {},
     "output_type": "execute_result"
    }
   ],
   "source": [
    "# Resulting row and row metadata after editing\n",
    "aln.row_and_metadata"
   ]
  },
  {
   "cell_type": "markdown",
   "metadata": {},
   "source": [
    "### Retaining rows via a copy\n",
    "\n",
    "The following code also retains the first row of the sequence alignment (row 0). However, in contrast to the default behavior, setting the `copy` parameter to `True` will create a new copy (`new_aln`) reflecting the changes. This keeps the original data intact (`aln`). This way of retaining rows is useful when it is necessary to compare the original and edited states of the alignment. \n",
    "\n",
    "However, returning a new copy containing the edit is not always recommended, especially for large alignments, because having the original copy and the new copy will double the memory necessary for the analysis."
   ]
  },
  {
   "cell_type": "code",
   "execution_count": 23,
   "metadata": {},
   "outputs": [],
   "source": [
    "# Reimport the data from a file into an Alignment object such that\n",
    "# the starting data will the same as the first.\n",
    "# See 01_Reading_alignments.ipynb for details about importing data.\n",
    "aln = Alignment.from_fasta(path)"
   ]
  },
  {
   "cell_type": "code",
   "execution_count": 24,
   "metadata": {},
   "outputs": [
    {
     "data": {
      "text/html": [
       "<div>\n",
       "<style scoped>\n",
       "    .dataframe tbody tr th:only-of-type {\n",
       "        vertical-align: middle;\n",
       "    }\n",
       "\n",
       "    .dataframe tbody tr th {\n",
       "        vertical-align: top;\n",
       "    }\n",
       "\n",
       "    .dataframe thead th {\n",
       "        text-align: right;\n",
       "    }\n",
       "</style>\n",
       "<table border=\"1\" class=\"dataframe\">\n",
       "  <thead>\n",
       "    <tr style=\"text-align: right;\">\n",
       "      <th></th>\n",
       "      <th>description</th>\n",
       "      <th>sequence</th>\n",
       "    </tr>\n",
       "  </thead>\n",
       "  <tbody>\n",
       "    <tr>\n",
       "      <th>seq1</th>\n",
       "      <td>description1</td>\n",
       "      <td>TTATGAGTT</td>\n",
       "    </tr>\n",
       "    <tr>\n",
       "      <th>seq2</th>\n",
       "      <td></td>\n",
       "      <td>TTATGAGTT</td>\n",
       "    </tr>\n",
       "    <tr>\n",
       "      <th>seq3</th>\n",
       "      <td>description3</td>\n",
       "      <td>TTGTGCATT</td>\n",
       "    </tr>\n",
       "  </tbody>\n",
       "</table>\n",
       "</div>"
      ],
      "text/plain": [
       "       description   sequence\n",
       "seq1  description1  TTATGAGTT\n",
       "seq2                TTATGAGTT\n",
       "seq3  description3  TTGTGCATT"
      ]
     },
     "execution_count": 24,
     "metadata": {},
     "output_type": "execute_result"
    }
   ],
   "source": [
    "# Row and row metadata before editing\n",
    "aln.row_and_metadata"
   ]
  },
  {
   "cell_type": "code",
   "execution_count": 25,
   "metadata": {},
   "outputs": [
    {
     "data": {
      "text/plain": [
       "(3, 9)"
      ]
     },
     "execution_count": 25,
     "metadata": {},
     "output_type": "execute_result"
    }
   ],
   "source": [
    "# Number of rows and columns in the alignment prior to editing\n",
    "aln.nrows, aln.ncols"
   ]
  },
  {
   "cell_type": "code",
   "execution_count": 26,
   "metadata": {},
   "outputs": [],
   "source": [
    "# Return a copy of the data, retaining the row with position index 0, removing all others\n",
    "# The edited copy is named `new_aln`\n",
    "new_aln = aln.row.retain(0, copy=True)"
   ]
  },
  {
   "cell_type": "code",
   "execution_count": 27,
   "metadata": {},
   "outputs": [
    {
     "data": {
      "text/plain": [
       "(3, 9)"
      ]
     },
     "execution_count": 27,
     "metadata": {},
     "output_type": "execute_result"
    }
   ],
   "source": [
    "# Number of rows and columns in the original alignment after to editing\n",
    "aln.nrows, aln.ncols"
   ]
  },
  {
   "cell_type": "code",
   "execution_count": 28,
   "metadata": {},
   "outputs": [
    {
     "data": {
      "text/plain": [
       "(1, 9)"
      ]
     },
     "execution_count": 28,
     "metadata": {},
     "output_type": "execute_result"
    }
   ],
   "source": [
    "# Number of rows and columns in the NEW alignment\n",
    "new_aln.nrows, new_aln.ncols"
   ]
  },
  {
   "cell_type": "code",
   "execution_count": 29,
   "metadata": {
    "scrolled": true
   },
   "outputs": [
    {
     "data": {
      "text/html": [
       "<div>\n",
       "<style scoped>\n",
       "    .dataframe tbody tr th:only-of-type {\n",
       "        vertical-align: middle;\n",
       "    }\n",
       "\n",
       "    .dataframe tbody tr th {\n",
       "        vertical-align: top;\n",
       "    }\n",
       "\n",
       "    .dataframe thead th {\n",
       "        text-align: right;\n",
       "    }\n",
       "</style>\n",
       "<table border=\"1\" class=\"dataframe\">\n",
       "  <thead>\n",
       "    <tr style=\"text-align: right;\">\n",
       "      <th></th>\n",
       "      <th>description</th>\n",
       "      <th>sequence</th>\n",
       "    </tr>\n",
       "  </thead>\n",
       "  <tbody>\n",
       "    <tr>\n",
       "      <th>seq1</th>\n",
       "      <td>description1</td>\n",
       "      <td>TTATGAGTT</td>\n",
       "    </tr>\n",
       "    <tr>\n",
       "      <th>seq2</th>\n",
       "      <td></td>\n",
       "      <td>TTATGAGTT</td>\n",
       "    </tr>\n",
       "    <tr>\n",
       "      <th>seq3</th>\n",
       "      <td>description3</td>\n",
       "      <td>TTGTGCATT</td>\n",
       "    </tr>\n",
       "  </tbody>\n",
       "</table>\n",
       "</div>"
      ],
      "text/plain": [
       "       description   sequence\n",
       "seq1  description1  TTATGAGTT\n",
       "seq2                TTATGAGTT\n",
       "seq3  description3  TTGTGCATT"
      ]
     },
     "execution_count": 29,
     "metadata": {},
     "output_type": "execute_result"
    }
   ],
   "source": [
    "# Row and row metadata in the original alignment after editing\n",
    "aln.row_and_metadata"
   ]
  },
  {
   "cell_type": "code",
   "execution_count": 30,
   "metadata": {},
   "outputs": [
    {
     "data": {
      "text/html": [
       "<div>\n",
       "<style scoped>\n",
       "    .dataframe tbody tr th:only-of-type {\n",
       "        vertical-align: middle;\n",
       "    }\n",
       "\n",
       "    .dataframe tbody tr th {\n",
       "        vertical-align: top;\n",
       "    }\n",
       "\n",
       "    .dataframe thead th {\n",
       "        text-align: right;\n",
       "    }\n",
       "</style>\n",
       "<table border=\"1\" class=\"dataframe\">\n",
       "  <thead>\n",
       "    <tr style=\"text-align: right;\">\n",
       "      <th></th>\n",
       "      <th>description</th>\n",
       "      <th>sequence</th>\n",
       "    </tr>\n",
       "  </thead>\n",
       "  <tbody>\n",
       "    <tr>\n",
       "      <th>seq1</th>\n",
       "      <td>description1</td>\n",
       "      <td>TTATGAGTT</td>\n",
       "    </tr>\n",
       "  </tbody>\n",
       "</table>\n",
       "</div>"
      ],
      "text/plain": [
       "       description   sequence\n",
       "seq1  description1  TTATGAGTT"
      ]
     },
     "execution_count": 30,
     "metadata": {},
     "output_type": "execute_result"
    }
   ],
   "source": [
    "# Row and row metadata in the NEW alignment\n",
    "new_aln.row_and_metadata"
   ]
  },
  {
   "cell_type": "markdown",
   "metadata": {},
   "source": [
    "## Next\n",
    "\n",
    "See `02b_Removing_columns.ipynb` for more information about removing and retaining alignment columns.\n",
    "\n",
    "Proceed to `03a_Filtering_rows.ipynb` or `03b_Filtering_columns.ipynb` to know more about using a function to select rows or columns respectively."
   ]
  },
  {
   "cell_type": "code",
   "execution_count": null,
   "metadata": {},
   "outputs": [],
   "source": []
  }
 ],
 "metadata": {
  "kernelspec": {
   "display_name": "Python 3",
   "language": "python",
   "name": "python3"
  },
  "language_info": {
   "codemirror_mode": {
    "name": "ipython",
    "version": 3
   },
   "file_extension": ".py",
   "mimetype": "text/x-python",
   "name": "python",
   "nbconvert_exporter": "python",
   "pygments_lexer": "ipython3",
   "version": "3.7.4"
  }
 },
 "nbformat": 4,
 "nbformat_minor": 2
}
