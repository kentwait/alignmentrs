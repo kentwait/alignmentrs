{
 "cells": [
  {
   "cell_type": "markdown",
   "metadata": {},
   "source": [
    "# HOWTO: Reading alignments"
   ]
  },
  {
   "cell_type": "code",
   "execution_count": 1,
   "metadata": {},
   "outputs": [],
   "source": [
    "# Generate random FASTA alignment of 3 samples, 9 characters long to use as an example\n",
    "import random\n",
    "\n",
    "def generate_random_alignment(num_samples, seq_len, bases='ATCG'):\n",
    "    sequences = ['' for i in range(num_samples)]\n",
    "    for i in range(seq_len):\n",
    "        char1 = random.choice(bases)\n",
    "        if random.random() > 0.5:  # >0.5 means variable\n",
    "            # Pick another character\n",
    "            char2 = random.choice(bases)\n",
    "            freq1 = random.randint(1, num_samples-1)\n",
    "            freq2 = num_samples - freq1\n",
    "        else:\n",
    "            char2 = ''\n",
    "            freq1, freq2 = num_samples, 0\n",
    "        for j1 in range(freq1):\n",
    "            sequences[j1] += char1\n",
    "        for j2 in range(freq1, freq1+freq2):\n",
    "            sequences[j2] += char2\n",
    "    return sequences\n",
    "\n",
    "def generate_random_fasta(path, num_samples, seq_len, bases='ATCG'):\n",
    "    sequences = generate_random_alignment(num_samples, seq_len, bases=bases)\n",
    "    with open(path, 'w') as f:\n",
    "        for i, seq in enumerate(sequences):\n",
    "            if i == 1:\n",
    "                print('>seq{i}\\n{s}'.format(i=i+1, s=seq), file=f)\n",
    "            else:\n",
    "                print('>seq{i} description{i}\\n{s}'.format(i=i+1, s=seq), file=f)\n",
    "\n",
    "path = 'test.aln'\n",
    "generate_random_fasta(path, 3, 9)"
   ]
  },
  {
   "cell_type": "code",
   "execution_count": 2,
   "metadata": {},
   "outputs": [
    {
     "name": "stdout",
     "output_type": "stream",
     "text": [
      ">seq1 description1\n",
      "AACAATCGG\n",
      ">seq2\n",
      "TACAATCGG\n",
      ">seq3 description3\n",
      "TACAATGGG\n"
     ]
    }
   ],
   "source": [
    "# Prints the contents of test.aln\n",
    "with open('test.aln', 'r') as f:\n",
    "    for line in f:\n",
    "        print(line.rstrip())"
   ]
  },
  {
   "cell_type": "markdown",
   "metadata": {},
   "source": [
    "## Import the `Alignment` object from `alignmentrs`\n",
    "\n",
    "`alignmentrs` is the package containing all the classes and methods for reading and manipulating a multiple sequence alignment.\n",
    "\n",
    "The `Alignment` class is used to create an alignment object that contains the information about a multiple sequence alignment, from its sequences to sample names and related metadata."
   ]
  },
  {
   "cell_type": "code",
   "execution_count": 3,
   "metadata": {},
   "outputs": [],
   "source": [
    "from alignmentrs import Alignment"
   ]
  },
  {
   "cell_type": "markdown",
   "metadata": {},
   "source": [
    "## Open FASTA file using `Alignment.from_fasta`\n",
    "\n",
    "The `Alignment` class contains methods to import data encoded in various formats. `Alignment` class import method names begin with `from`...\n",
    "- `from_dict` imports data formatted as a dictionary\n",
    "- `from_fasta` imports FASTA-formatted string or a FASTA file\n",
    "- `from_json` imports a JSON-formatted string or a JSON file\n",
    "- `from_pickle` imports a pickled alignment object\n",
    "\n",
    "In this example, `from_fasta` is used to import an existing FASTA file as an `Alignment` object."
   ]
  },
  {
   "cell_type": "code",
   "execution_count": 4,
   "metadata": {},
   "outputs": [],
   "source": [
    "aln = Alignment.from_fasta(path)"
   ]
  },
  {
   "cell_type": "markdown",
   "metadata": {},
   "source": [
    "## Inspecting the contents of the alignment"
   ]
  },
  {
   "cell_type": "markdown",
   "metadata": {},
   "source": [
    "The `Alignment` object encapsulates the alignment sequence matrix, sequence identifiers and descriptions (known as row metadata), site annotations (known as column metadata), and comments and descriptions for the entire alignment (known as alignment metadata.\n",
    "\n",
    "### Attributes\n",
    "\n",
    "These can be readily accessed as attributes of the `Alignment` object:\n",
    "- `.data` shows the underlying sequence matrix as a `SeqMatrix` object\n",
    "- `.row_metadata` shows sequence identifiers and other row-related metadata as a pandas `DataFrame`\n",
    "- `.column_metadata` shows site annotations and other column-related metadata as a pandas `DataFrame`\n",
    "- `.alignment_metadata` shows alignment comments and other alignment-related information as a `dict`"
   ]
  },
  {
   "cell_type": "code",
   "execution_count": 5,
   "metadata": {},
   "outputs": [
    {
     "data": {
      "text/plain": [
       "SeqMatrix(nrows=3, ncols=9)"
      ]
     },
     "execution_count": 5,
     "metadata": {},
     "output_type": "execute_result"
    }
   ],
   "source": [
    "# Sequence matrix\n",
    "aln.data"
   ]
  },
  {
   "cell_type": "code",
   "execution_count": 6,
   "metadata": {},
   "outputs": [
    {
     "data": {
      "text/html": [
       "<div>\n",
       "<style scoped>\n",
       "    .dataframe tbody tr th:only-of-type {\n",
       "        vertical-align: middle;\n",
       "    }\n",
       "\n",
       "    .dataframe tbody tr th {\n",
       "        vertical-align: top;\n",
       "    }\n",
       "\n",
       "    .dataframe thead th {\n",
       "        text-align: right;\n",
       "    }\n",
       "</style>\n",
       "<table border=\"1\" class=\"dataframe\">\n",
       "  <thead>\n",
       "    <tr style=\"text-align: right;\">\n",
       "      <th></th>\n",
       "      <th>description</th>\n",
       "    </tr>\n",
       "  </thead>\n",
       "  <tbody>\n",
       "    <tr>\n",
       "      <th>seq1</th>\n",
       "      <td>description1</td>\n",
       "    </tr>\n",
       "    <tr>\n",
       "      <th>seq2</th>\n",
       "      <td></td>\n",
       "    </tr>\n",
       "    <tr>\n",
       "      <th>seq3</th>\n",
       "      <td>description3</td>\n",
       "    </tr>\n",
       "  </tbody>\n",
       "</table>\n",
       "</div>"
      ],
      "text/plain": [
       "       description\n",
       "seq1  description1\n",
       "seq2              \n",
       "seq3  description3"
      ]
     },
     "execution_count": 6,
     "metadata": {},
     "output_type": "execute_result"
    }
   ],
   "source": [
    "# Row metadata\n",
    "aln.row_metadata"
   ]
  },
  {
   "cell_type": "code",
   "execution_count": 7,
   "metadata": {},
   "outputs": [
    {
     "data": {
      "text/html": [
       "<div>\n",
       "<style scoped>\n",
       "    .dataframe tbody tr th:only-of-type {\n",
       "        vertical-align: middle;\n",
       "    }\n",
       "\n",
       "    .dataframe tbody tr th {\n",
       "        vertical-align: top;\n",
       "    }\n",
       "\n",
       "    .dataframe thead th {\n",
       "        text-align: right;\n",
       "    }\n",
       "</style>\n",
       "<table border=\"1\" class=\"dataframe\">\n",
       "  <thead>\n",
       "    <tr style=\"text-align: right;\">\n",
       "      <th></th>\n",
       "    </tr>\n",
       "  </thead>\n",
       "  <tbody>\n",
       "    <tr>\n",
       "      <th>0</th>\n",
       "    </tr>\n",
       "    <tr>\n",
       "      <th>1</th>\n",
       "    </tr>\n",
       "    <tr>\n",
       "      <th>2</th>\n",
       "    </tr>\n",
       "    <tr>\n",
       "      <th>3</th>\n",
       "    </tr>\n",
       "    <tr>\n",
       "      <th>4</th>\n",
       "    </tr>\n",
       "    <tr>\n",
       "      <th>5</th>\n",
       "    </tr>\n",
       "    <tr>\n",
       "      <th>6</th>\n",
       "    </tr>\n",
       "    <tr>\n",
       "      <th>7</th>\n",
       "    </tr>\n",
       "    <tr>\n",
       "      <th>8</th>\n",
       "    </tr>\n",
       "  </tbody>\n",
       "</table>\n",
       "</div>"
      ],
      "text/plain": [
       "Empty DataFrame\n",
       "Columns: []\n",
       "Index: [0, 1, 2, 3, 4, 5, 6, 7, 8]"
      ]
     },
     "execution_count": 7,
     "metadata": {},
     "output_type": "execute_result"
    }
   ],
   "source": [
    "# Column metadata\n",
    "aln.column_metadata"
   ]
  },
  {
   "cell_type": "markdown",
   "metadata": {},
   "source": [
    "### Properties\n",
    "\n",
    "The `Alignment` object has several properties used to describe its contents:\n",
    "- `.nrows` shows the number samples are present in the alignment.\n",
    "- `.ncols` shows the number of aligned characters in the alignment.\n",
    "- `.sequences` returns the sequences in the alignment as a list of strings.\n",
    "- `.row_and_metadata` returns a new pandas `DataFrame` that joins row metadata with its corresponding a sequence.\n",
    "- `.column_and_metadata` returns a new pandas `DataFrame` that joins column metadata with the sequence at the particular site."
   ]
  },
  {
   "cell_type": "code",
   "execution_count": 8,
   "metadata": {},
   "outputs": [
    {
     "data": {
      "text/plain": [
       "3"
      ]
     },
     "execution_count": 8,
     "metadata": {},
     "output_type": "execute_result"
    }
   ],
   "source": [
    "# Number of samples\n",
    "aln.nrows"
   ]
  },
  {
   "cell_type": "code",
   "execution_count": 9,
   "metadata": {},
   "outputs": [
    {
     "data": {
      "text/plain": [
       "9"
      ]
     },
     "execution_count": 9,
     "metadata": {},
     "output_type": "execute_result"
    }
   ],
   "source": [
    "# Number of aligned columns\n",
    "aln.ncols"
   ]
  },
  {
   "cell_type": "code",
   "execution_count": 10,
   "metadata": {},
   "outputs": [
    {
     "data": {
      "text/plain": [
       "['AACAATCGG', 'TACAATCGG', 'TACAATGGG']"
      ]
     },
     "execution_count": 10,
     "metadata": {},
     "output_type": "execute_result"
    }
   ],
   "source": [
    "# Sequences\n",
    "aln.sequences"
   ]
  },
  {
   "cell_type": "code",
   "execution_count": 11,
   "metadata": {},
   "outputs": [
    {
     "data": {
      "text/html": [
       "<div>\n",
       "<style scoped>\n",
       "    .dataframe tbody tr th:only-of-type {\n",
       "        vertical-align: middle;\n",
       "    }\n",
       "\n",
       "    .dataframe tbody tr th {\n",
       "        vertical-align: top;\n",
       "    }\n",
       "\n",
       "    .dataframe thead th {\n",
       "        text-align: right;\n",
       "    }\n",
       "</style>\n",
       "<table border=\"1\" class=\"dataframe\">\n",
       "  <thead>\n",
       "    <tr style=\"text-align: right;\">\n",
       "      <th></th>\n",
       "      <th>description</th>\n",
       "      <th>sequence</th>\n",
       "    </tr>\n",
       "  </thead>\n",
       "  <tbody>\n",
       "    <tr>\n",
       "      <th>seq1</th>\n",
       "      <td>description1</td>\n",
       "      <td>AACAATCGG</td>\n",
       "    </tr>\n",
       "    <tr>\n",
       "      <th>seq2</th>\n",
       "      <td></td>\n",
       "      <td>TACAATCGG</td>\n",
       "    </tr>\n",
       "    <tr>\n",
       "      <th>seq3</th>\n",
       "      <td>description3</td>\n",
       "      <td>TACAATGGG</td>\n",
       "    </tr>\n",
       "  </tbody>\n",
       "</table>\n",
       "</div>"
      ],
      "text/plain": [
       "       description   sequence\n",
       "seq1  description1  AACAATCGG\n",
       "seq2                TACAATCGG\n",
       "seq3  description3  TACAATGGG"
      ]
     },
     "execution_count": 11,
     "metadata": {},
     "output_type": "execute_result"
    }
   ],
   "source": [
    "# Combined row metadata and sequence\n",
    "aln.row_and_metadata"
   ]
  },
  {
   "cell_type": "code",
   "execution_count": 12,
   "metadata": {},
   "outputs": [
    {
     "data": {
      "text/html": [
       "<div>\n",
       "<style scoped>\n",
       "    .dataframe tbody tr th:only-of-type {\n",
       "        vertical-align: middle;\n",
       "    }\n",
       "\n",
       "    .dataframe tbody tr th {\n",
       "        vertical-align: top;\n",
       "    }\n",
       "\n",
       "    .dataframe thead th {\n",
       "        text-align: right;\n",
       "    }\n",
       "</style>\n",
       "<table border=\"1\" class=\"dataframe\">\n",
       "  <thead>\n",
       "    <tr style=\"text-align: right;\">\n",
       "      <th></th>\n",
       "      <th>sequence</th>\n",
       "    </tr>\n",
       "  </thead>\n",
       "  <tbody>\n",
       "    <tr>\n",
       "      <th>0</th>\n",
       "      <td>ATT</td>\n",
       "    </tr>\n",
       "    <tr>\n",
       "      <th>1</th>\n",
       "      <td>AAA</td>\n",
       "    </tr>\n",
       "    <tr>\n",
       "      <th>2</th>\n",
       "      <td>CCC</td>\n",
       "    </tr>\n",
       "    <tr>\n",
       "      <th>3</th>\n",
       "      <td>AAA</td>\n",
       "    </tr>\n",
       "    <tr>\n",
       "      <th>4</th>\n",
       "      <td>AAA</td>\n",
       "    </tr>\n",
       "    <tr>\n",
       "      <th>5</th>\n",
       "      <td>TTT</td>\n",
       "    </tr>\n",
       "    <tr>\n",
       "      <th>6</th>\n",
       "      <td>CCG</td>\n",
       "    </tr>\n",
       "    <tr>\n",
       "      <th>7</th>\n",
       "      <td>GGG</td>\n",
       "    </tr>\n",
       "    <tr>\n",
       "      <th>8</th>\n",
       "      <td>GGG</td>\n",
       "    </tr>\n",
       "  </tbody>\n",
       "</table>\n",
       "</div>"
      ],
      "text/plain": [
       "  sequence\n",
       "0      ATT\n",
       "1      AAA\n",
       "2      CCC\n",
       "3      AAA\n",
       "4      AAA\n",
       "5      TTT\n",
       "6      CCG\n",
       "7      GGG\n",
       "8      GGG"
      ]
     },
     "execution_count": 12,
     "metadata": {},
     "output_type": "execute_result"
    }
   ],
   "source": [
    "# Combined column metadata and sequence\n",
    "aln.column_and_metadata"
   ]
  },
  {
   "cell_type": "markdown",
   "metadata": {},
   "source": [
    "## Accessing rows and columns\n",
    "\n",
    "A row refers to individual sequence of a sample or record in the sequene alignment. These records may be different gene sequences or sequences from different organisms that were aligned using a multiple sequence alignment software (ClustalX, MAFFT, MrBayes, etc.)\n",
    "\n",
    "A column refers to the vertical list of characters found for each single-character column in the alignment. Concretely, a column is the list of nth character for each sample in the sequence alignment.\n",
    "\n",
    "To access rows and columns, `Alignment` as `.row` and `.col` properties for rows and columns respectively. Rows and columns are indexed by integers starting from 0 and uses Python indexing conventions."
   ]
  },
  {
   "cell_type": "markdown",
   "metadata": {},
   "source": [
    "### Retrieving rows"
   ]
  },
  {
   "cell_type": "code",
   "execution_count": 13,
   "metadata": {},
   "outputs": [
    {
     "data": {
      "text/plain": [
       "'AACAATCGG'"
      ]
     },
     "execution_count": 13,
     "metadata": {},
     "output_type": "execute_result"
    }
   ],
   "source": [
    "# Retrieving the sequence of the first sample in the alignment\n",
    "aln.row[0]"
   ]
  },
  {
   "cell_type": "code",
   "execution_count": 14,
   "metadata": {},
   "outputs": [
    {
     "data": {
      "text/plain": [
       "'TACAATGGG'"
      ]
     },
     "execution_count": 14,
     "metadata": {},
     "output_type": "execute_result"
    }
   ],
   "source": [
    "# Retrieving the sequence of the last sample in the alignment containing 3 samples\n",
    "aln.row[2]"
   ]
  },
  {
   "cell_type": "code",
   "execution_count": 15,
   "metadata": {},
   "outputs": [
    {
     "data": {
      "text/plain": [
       "'TACAATGGG'"
      ]
     },
     "execution_count": 15,
     "metadata": {},
     "output_type": "execute_result"
    }
   ],
   "source": [
    "# Retrieving the sequence of the last sample in the alignment containing 3 samples\n",
    "# using negative indexing\n",
    "aln.row[-1]"
   ]
  },
  {
   "cell_type": "code",
   "execution_count": 16,
   "metadata": {},
   "outputs": [
    {
     "data": {
      "text/plain": [
       "['AACAATCGG', 'TACAATCGG']"
      ]
     },
     "execution_count": 16,
     "metadata": {},
     "output_type": "execute_result"
    }
   ],
   "source": [
    "# Retrieving the first 2 sequences in the alignment using a slice\n",
    "aln.row[0:2]"
   ]
  },
  {
   "cell_type": "markdown",
   "metadata": {},
   "source": [
    "### Retrieving columns"
   ]
  },
  {
   "cell_type": "code",
   "execution_count": 17,
   "metadata": {},
   "outputs": [
    {
     "data": {
      "text/plain": [
       "'ATT'"
      ]
     },
     "execution_count": 17,
     "metadata": {},
     "output_type": "execute_result"
    }
   ],
   "source": [
    "# Retrieving the first character of each of the 3 samples in the alignment\n",
    "aln.col[0]"
   ]
  },
  {
   "cell_type": "code",
   "execution_count": 18,
   "metadata": {},
   "outputs": [
    {
     "data": {
      "text/plain": [
       "'GGG'"
      ]
     },
     "execution_count": 18,
     "metadata": {},
     "output_type": "execute_result"
    }
   ],
   "source": [
    "# Retrieving the last character of each of the 3 samples in the alignment\n",
    "# where all samples are 9 characters long\n",
    "aln.col[8]"
   ]
  },
  {
   "cell_type": "code",
   "execution_count": 19,
   "metadata": {},
   "outputs": [
    {
     "data": {
      "text/plain": [
       "'GGG'"
      ]
     },
     "execution_count": 19,
     "metadata": {},
     "output_type": "execute_result"
    }
   ],
   "source": [
    "# Retrieving the last character of all 3 samples in the alignment\n",
    "# where all samples are 9 characters long using negative indexing\n",
    "aln.col[-1]"
   ]
  },
  {
   "cell_type": "code",
   "execution_count": 20,
   "metadata": {},
   "outputs": [
    {
     "data": {
      "text/plain": [
       "['ATT', 'AAA']"
      ]
     },
     "execution_count": 20,
     "metadata": {},
     "output_type": "execute_result"
    }
   ],
   "source": [
    "# Retrieving the first 2 characters of each of the 3 sample in the alignment using a slice\n",
    "aln.col[0:2]"
   ]
  },
  {
   "cell_type": "markdown",
   "metadata": {},
   "source": [
    "## Next\n",
    "\n",
    "Proceed to `02a_Removing_rows.ipynb` or `02b_Removing_columns.ipynb` to know more about removing and retaining alignment rows or columns respectively."
   ]
  },
  {
   "cell_type": "code",
   "execution_count": null,
   "metadata": {},
   "outputs": [],
   "source": []
  }
 ],
 "metadata": {
  "kernelspec": {
   "display_name": "Python 3",
   "language": "python",
   "name": "python3"
  },
  "language_info": {
   "codemirror_mode": {
    "name": "ipython",
    "version": 3
   },
   "file_extension": ".py",
   "mimetype": "text/x-python",
   "name": "python",
   "nbconvert_exporter": "python",
   "pygments_lexer": "ipython3",
   "version": "3.7.4"
  }
 },
 "nbformat": 4,
 "nbformat_minor": 2
}
